{
 "cells": [
  {
   "cell_type": "code",
   "execution_count": 1,
   "metadata": {},
   "outputs": [],
   "source": [
    "#IMPORT LIBRARIES"
   ]
  },
  {
   "cell_type": "code",
   "execution_count": 2,
   "metadata": {},
   "outputs": [],
   "source": [
    "#IMPORT DATA FOLLOWING P1_Q2 FOR 2020YTD"
   ]
  },
  {
   "cell_type": "code",
   "execution_count": 3,
   "metadata": {},
   "outputs": [],
   "source": [
    "#CALCULATE PERCENTAGE_CHANGE"
   ]
  },
  {
   "cell_type": "code",
   "execution_count": 4,
   "metadata": {},
   "outputs": [],
   "source": [
    "#CALCULATE PORTFOLIO RETURNS / ROLLING STATSTICS TO ANALYSE PERFORMANCE"
   ]
  },
  {
   "cell_type": "code",
   "execution_count": 5,
   "metadata": {},
   "outputs": [],
   "source": [
    "#CALCULATE VOLATITLITY\n",
    "# volatitily = std\n",
    "# first percent change"
   ]
  },
  {
   "cell_type": "code",
   "execution_count": 6,
   "metadata": {},
   "outputs": [],
   "source": [
    "# Save the last day's closing price"
   ]
  },
  {
   "cell_type": "code",
   "execution_count": 7,
   "metadata": {},
   "outputs": [],
   "source": [
    "# Setup the Monte Carlo Parameters"
   ]
  },
  {
   "cell_type": "code",
   "execution_count": null,
   "metadata": {},
   "outputs": [],
   "source": [
    "# # Initialize empty DataFrame to hold simulated prices for each simulation\n",
    "# simulated_price_df = pd.DataFrame()\n",
    "# portfolio_cumulative_returns = pd.DataFrame()\n",
    "\n",
    "# # Run the Monte Carlo Simulation\n",
    "# for x in range(number_simulations):\n",
    "    \n",
    "#     # Initialize the simulated prices list with the last closing price of `agg` and `spy`\n",
    "#     simulated_agg_prices = [agg_last_price]\n",
    "#     simulated_spy_prices = [spy_last_price]\n",
    "    \n",
    "#      # Simulate the returns for 252 days * 30 years\n",
    "#     for i in range(number_records):\n",
    "#         # Calculate the simulated price using the last price within the list\n",
    "#         simulated_agg_price = simulated_agg_prices[-1] * (1 + np.random.normal(avg_daily_return_agg, std_dev_daily_return_agg))\n",
    "#         simulated_spy_price = simulated_spy_prices[-1] * (1 + np.random.normal(avg_daily_return_spy, std_dev_daily_return_spy))\n",
    "        \n",
    "#         # Append the simulated price to the list\n",
    "#         simulated_agg_prices.append(simulated_agg_price)\n",
    "#         simulated_spy_prices.append(simulated_spy_price)\n",
    "    \n",
    "#     # Append a simulated prices of each simulation to DataFrame\n",
    "#     simulated_price_df[\"AGG prices\"] = pd.Series(simulated_agg_prices)\n",
    "#     simulated_price_df[\"SPY prices\"] = pd.Series(simulated_spy_prices)\n",
    "    \n",
    "#     # Calculate the daily returns of simulated prices\n",
    "#     simulated_daily_returns = simulated_price_df.pct_change()\n",
    "    \n",
    "#     # Set the portfolio weights (60% AGG; 40% SPY)\n",
    "#     weights = [0.60, 0.40]\n",
    "\n",
    "#     # Use the `dot` function with the weights to multiply weights with each column's simulated daily returns\n",
    "#     portfolio_daily_returns = simulated_daily_returns.dot(weights)\n",
    "    \n",
    "#     # Calculate the normalized, cumulative return series\n",
    "#     portfolio_cumulative_returns[x] = (1 + portfolio_daily_returns.fillna(0)).cumprod()\n",
    "\n",
    "# # Print records from the DataFrame\n",
    "# portfolio_cumulative_returns.head()    "
   ]
  },
  {
   "cell_type": "code",
   "execution_count": null,
   "metadata": {},
   "outputs": [],
   "source": [
    "# Visualize the Simulation\n",
    "plot_title = f\"{x+1} Simulations of Cumulative Portfolio Return Trajectories Over the Next 30 Trading Years\"\n",
    "portfolio_cumulative_returns.plot(legend=None, title=plot_title)"
   ]
  },
  {
   "cell_type": "code",
   "execution_count": null,
   "metadata": {},
   "outputs": [],
   "source": [
    "# Display the 90% confidence interval for the ending returns\n",
    "confidence_interval = ending_cumulative_returns.quantile(q=[0.05, 0.95])\n",
    "confidence_interval"
   ]
  },
  {
   "cell_type": "code",
   "execution_count": null,
   "metadata": {},
   "outputs": [],
   "source": [
    "ending_cumulative_returns.plot(kind='hist')"
   ]
  },
  {
   "cell_type": "code",
   "execution_count": null,
   "metadata": {},
   "outputs": [],
   "source": [
    "# Visualize the distribution of the ending returns\n",
    "ending_cumulative_returns.value_counts(bins=10) / len(ending_cumulative_returns)\n",
    "\n",
    "plt.figure();\n",
    "ending_cumulative_returns.plot(kind='hist', density=True, bins=10)\n",
    "plt.axvline(confidence_interval.iloc[0], color='r')\n",
    "plt.axvline(confidence_interval.iloc[1], color='r')"
   ]
  },
  {
   "cell_type": "code",
   "execution_count": null,
   "metadata": {},
   "outputs": [],
   "source": [
    "#FINAL EVALUATION: WHERE WILL 2020 NET OUT?"
   ]
  }
 ],
 "metadata": {
  "kernelspec": {
   "display_name": "Python 3",
   "language": "python",
   "name": "python3"
  },
  "language_info": {
   "codemirror_mode": {
    "name": "ipython",
    "version": 3
   },
   "file_extension": ".py",
   "mimetype": "text/x-python",
   "name": "python",
   "nbconvert_exporter": "python",
   "pygments_lexer": "ipython3",
   "version": "3.7.7"
  }
 },
 "nbformat": 4,
 "nbformat_minor": 4
}
