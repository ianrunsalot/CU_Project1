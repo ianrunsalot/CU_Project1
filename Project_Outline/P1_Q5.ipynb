{
 "cells": [
  {
   "cell_type": "code",
   "execution_count": null,
   "metadata": {},
   "outputs": [],
   "source": [
    "#IMPORT LIBRARIES\n",
    "import numpy as np\n",
    "import pandas as pd\n",
    "import os\n",
    "from datetime import datetime, timedelta\n",
    "import matplotlib.pyplot as plt\n",
    "import alpaca_trade_api as tradeapi\n",
    "from pathlib import Path\n",
    "from dotenv import load_dotenv\n",
    "import plotly.express as px\n",
    "%matplotlib inline\n",
    "import hvplot.pandas\n",
    "import seaborn as sns"
   ]
  },
  {
   "cell_type": "code",
   "execution_count": null,
   "metadata": {},
   "outputs": [],
   "source": [
    "#IMPORT DATA FOLLOWING P1_Q3 FOR THREE SECTORS/STOCKS\n",
    "#Walmart, P&G, J&J. \\\\\\\n",
    "load_dotenv()\n",
    "\n",
    "alpaca_api_key = os.getenv(\"ALPACA_API_KEY\")\n",
    "alpaca_secret_key = os.getenv(\"ALPACA_SECRET_KEY\")"
   ]
  },
  {
   "cell_type": "code",
   "execution_count": null,
   "metadata": {},
   "outputs": [],
   "source": [
    "type(alpaca_api_key)"
   ]
  },
  {
   "cell_type": "code",
   "execution_count": null,
   "metadata": {},
   "outputs": [],
   "source": [
    "type(alpaca_secret_key)"
   ]
  },
  {
   "cell_type": "code",
   "execution_count": null,
   "metadata": {},
   "outputs": [],
   "source": [
    "len(alpaca_api_key)"
   ]
  },
  {
   "cell_type": "code",
   "execution_count": null,
   "metadata": {},
   "outputs": [],
   "source": [
    "len(alpaca_secret_key)"
   ]
  },
  {
   "cell_type": "code",
   "execution_count": null,
   "metadata": {},
   "outputs": [],
   "source": [
    "# api = tradeapi.REST()\n",
    "api = tradeapi.REST(alpaca_api_key, alpaca_secret_key, api_version='v2')"
   ]
  },
  {
   "cell_type": "code",
   "execution_count": null,
   "metadata": {},
   "outputs": [],
   "source": [
    "list_of_tickers = [\"WMT\", \"JNJ\", \"PG\",\"JPM\", \"MCD\",\"XOM\"]\n",
    "\n",
    "# YOUR CODE HERE\n",
    "# Get all Asstes\n",
    "assets = api.list_assets()"
   ]
  },
  {
   "cell_type": "code",
   "execution_count": null,
   "metadata": {},
   "outputs": [],
   "source": [
    "# Keep only tradeable assets\n",
    "tradeable = [asset for asset in assets if asset.tradable ]\n",
    "#tradeable"
   ]
  },
  {
   "cell_type": "code",
   "execution_count": null,
   "metadata": {},
   "outputs": [],
   "source": [
    "# Create a new empty DataFrame\n",
    "asset_info_df = pd.DataFrame()\n",
    "asset_info_df['symbol'] = pd.Series([asset.symbol for asset in assets])\n",
    "\n",
    "# Display the first 10 asset tickers\n",
    "asset_info_df.sample(5)"
   ]
  },
  {
   "cell_type": "code",
   "execution_count": null,
   "metadata": {},
   "outputs": [],
   "source": [
    "tickers = [\"WMT\", \"JNJ\", \"PG\"]\n",
    "\n",
    "# Set timeframe to '1D'\n",
    "timeframe = '1D'\n",
    "\n",
    "# Set start and end datetimes of 1 year, between now and 365 days ago.\n",
    "end_date = datetime.now()\n",
    "start_date = end_date + timedelta(-88)\n",
    "\n",
    "# Get 1 year's worth of historical data for WMT, JNJ and PG\n",
    "df = api.get_barset(\n",
    "    tickers,\n",
    "    timeframe,\n",
    "    limit=None,\n",
    "    start=start_date,\n",
    "    end=end_date,\n",
    "    after=None,\n",
    "    until=None,\n",
    ").df\n",
    "\n",
    "df.head(10)"
   ]
  },
  {
   "cell_type": "code",
   "execution_count": null,
   "metadata": {},
   "outputs": [],
   "source": [
    "df.drop(columns=['open', 'high', 'low', 'volume'], level=1, inplace=True)\n",
    "# new = df.rename(columns={'time': 'Date'}) not working possibly because time is the index column; this works on other column names\n",
    "#new.head(10)\n",
    "df.head()"
   ]
  },
  {
   "cell_type": "code",
   "execution_count": null,
   "metadata": {},
   "outputs": [],
   "source": [
    "#CALCULATE PERCENTAGE_CHANGE\n",
    "#jnj_pct_change = df['JNJ'].pct_change().head(5)\n",
    "#jnj_pct_change"
   ]
  },
  {
   "cell_type": "code",
   "execution_count": null,
   "metadata": {},
   "outputs": [],
   "source": [
    "#pg_pct_change = df['PG'].pct_change().head(5)\n",
    "#pg_pct_change"
   ]
  },
  {
   "cell_type": "code",
   "execution_count": null,
   "metadata": {},
   "outputs": [],
   "source": [
    "#wmt_pct_change = df['WMT'].pct_change().head(5)\n",
    "#wmt_pct_change"
   ]
  },
  {
   "cell_type": "code",
   "execution_count": null,
   "metadata": {},
   "outputs": [],
   "source": [
    "daily_returns = df.pct_change()\n",
    "daily_returns.head(10)"
   ]
  },
  {
   "cell_type": "code",
   "execution_count": null,
   "metadata": {},
   "outputs": [],
   "source": [
    "#CALCULATE PORTFOLIO RETURNS / ROLLING STATSTICS TO ANALYSE PERFORMANCE\n",
    "\n",
    "\n",
    "\n",
    "#Calculate Value of Average Daily Returns\n",
    "# Use the `mean` function to calculate the mean of daily returns for tickers = [\"WMT\", \"JNJ\", \"PG\"]\n",
    "#daily_returns = df.pct_change()\n",
    "\n",
    "\n",
    "avg_daily_return_wmt = daily_returns.mean()['WMT']['close']\n",
    "avg_daily_return_jnj = daily_returns.mean()['JNJ']['close']\n",
    "avg_daily_return_pg = daily_returns.mean()['PG']['close']\n",
    "print(f\"The Mean of Daily Returns are: Walmart: {avg_daily_return_wmt}, Johnson & Johnson: {avg_daily_return_jnj}, Proctor & Gamble: {avg_daily_return_pg}\")\n"
   ]
  },
  {
   "cell_type": "code",
   "execution_count": null,
   "metadata": {},
   "outputs": [],
   "source": [
    "#CALCULATE VOLATITLITY\n",
    "# volatitily = std\n",
    "std_wmt = daily_returns.std()['WMT']['close']\n",
    "std_jnj = daily_returns.std()['JNJ']['close']\n",
    "std_pg = daily_returns.std()['PG']['close']\n",
    "print(f\"The Standard Deviation of Returns: Walmart: {std_wmt}, Johnson & Johnson: {std_jnj}, Proctor & Gamble: {std_pg}\")\n",
    "\n",
    "# first percent change"
   ]
  },
  {
   "cell_type": "code",
   "execution_count": null,
   "metadata": {},
   "outputs": [],
   "source": [
    "# Plot rolling stats for risk (std) and return to observe any correlated patterns visually\n",
    "# Plot daily portfolio return\n",
    "df.plot()"
   ]
  },
  {
   "cell_type": "code",
   "execution_count": null,
   "metadata": {},
   "outputs": [],
   "source": [
    "# Plot rolling stats for risk (std) and return to observe any correlated patterns visually\n",
    "# Rolling 7-Day Mean of Closing Prices\n",
    "df.rolling(window=7).mean().plot()"
   ]
  },
  {
   "cell_type": "code",
   "execution_count": null,
   "metadata": {},
   "outputs": [],
   "source": [
    "# Rolling 7-Day Standard Deviation of Closing Prices\n",
    "df.rolling(window=7).std().plot()"
   ]
  },
  {
   "cell_type": "code",
   "execution_count": null,
   "metadata": {},
   "outputs": [],
   "source": [
    "# Rolling 30-Day Mean of Closing Prices\n",
    "df.rolling(window=30).mean().plot()"
   ]
  },
  {
   "cell_type": "code",
   "execution_count": null,
   "metadata": {},
   "outputs": [],
   "source": [
    "# Rolling 30-Day Standard Deviation of Closing Prices\n",
    "df.rolling(window=30).std().plot()"
   ]
  },
  {
   "cell_type": "code",
   "execution_count": null,
   "metadata": {},
   "outputs": [],
   "source": [
    "# Rolling 180-Day Mean of Closing Prices; adjust axis to show curve\n",
    "df.rolling(window=180).mean().plot()"
   ]
  },
  {
   "cell_type": "code",
   "execution_count": null,
   "metadata": {},
   "outputs": [],
   "source": [
    "# Rolling 180-Day Standard Deviation Closing Prices; adjust axis to show curve\n",
    "df.rolling(window=180).std().plot()"
   ]
  },
  {
   "cell_type": "code",
   "execution_count": null,
   "metadata": {},
   "outputs": [],
   "source": [
    "# Calculate the covariance of the stocks in the portfolio. # Positive covariance implies a positive relationship between all companies, \n",
    "# though not by the same fold; covariacne of any stock in the portfolio is calculated as variance of the stock return relative to the portfolio over the same\n",
    "# time period\n",
    "df.cov()"
   ]
  },
  {
   "cell_type": "code",
   "execution_count": null,
   "metadata": {},
   "outputs": [],
   "source": [
    "# Calculate the Variance of the stocks in the portfolio; remember the the variaince is simply the covariance of the stock against itself; \n",
    "# Notice that the below variance is also reflected in the covariance table above\n",
    "df.var()"
   ]
  },
  {
   "cell_type": "code",
   "execution_count": null,
   "metadata": {},
   "outputs": [],
   "source": [
    "# Beta calculation\n",
    "df.cov()/df.var()"
   ]
  },
  {
   "cell_type": "code",
   "execution_count": null,
   "metadata": {},
   "outputs": [],
   "source": [
    "# Calculate the correlation coefficient of the stocks in the portfolio\n",
    "df.corr()\n",
    "# P&G and JNJ have the highest correlation, 0.813638\n",
    "# P&G and Walmart have the least correlation, 0.192753"
   ]
  },
  {
   "cell_type": "code",
   "execution_count": null,
   "metadata": {},
   "outputs": [],
   "source": [
    "# Use the `heatmap` function from the seaborn library to visualize correlations\n",
    "price_corr = df.corr()\n",
    "sns.heatmap(price_corr, vmin=-1, vmax=1)"
   ]
  },
  {
   "cell_type": "code",
   "execution_count": null,
   "metadata": {},
   "outputs": [],
   "source": [
    "# Save the last day's closing price\n",
    "jnj_last = df['JNJ'][-1:]\n",
    "jnj_last"
   ]
  },
  {
   "cell_type": "code",
   "execution_count": null,
   "metadata": {},
   "outputs": [],
   "source": [
    "# Save the last day's closing price\n",
    "pg_last = df['PG'][-1:]\n",
    "pg_last"
   ]
  },
  {
   "cell_type": "code",
   "execution_count": null,
   "metadata": {},
   "outputs": [],
   "source": [
    "# Save the last day's closing price\n",
    "wmt_last = df['WMT'][-1:]\n",
    "wmt_last"
   ]
  },
  {
   "cell_type": "code",
   "execution_count": null,
   "metadata": {},
   "outputs": [],
   "source": [
    "df[-1:]"
   ]
  },
  {
   "cell_type": "code",
   "execution_count": null,
   "metadata": {},
   "outputs": [],
   "source": [
    "# Setup the Monte Carlo Parameters"
   ]
  },
  {
   "cell_type": "code",
   "execution_count": null,
   "metadata": {},
   "outputs": [],
   "source": [
    "# Set number of simulations and trading days\n",
    "num_simulations = 1000\n",
    "num_trading_days = 166\n",
    "\n",
    "# Set last closing prices of `JNJ`,WMT and PG or entire portfolio\n",
    "jnj_last = df['JNJ'][-1:]\n",
    "pg_last = df['PG'][-1:]\n",
    "wmt_last = df['WMT'][-1:]\n",
    "\n",
    "#Entire portfolio of stocks\n",
    "#port_last = df[-1:]\n",
    "\n",
    "# Initialize empty DataFrame to hold simulated prices for each simulation\n",
    "simulated_price_df = pd.DataFrame()\n",
    "portfolio_cumulative_returns = pd.DataFrame()\n",
    "\n",
    "#simulated_tickers_prices['symbol'] = pd.Series([asset.symbol for asset in assets])\n",
    "\n",
    "# Run the Monte Carlo Simulation for num_simulations and num_trading_days; for x in range(number_simulations):\n",
    "for n in range(num_trading_days):\n",
    "    \n",
    "    #simulated_port_prices = [port_last]\n",
    "    simulated_jnj_prices = [jnj_last]\n",
    "    simulated_pg_prices = [pg_last]\n",
    "    simulated_wmt_prices = [wmt_last]\n",
    "    \n",
    "    \n",
    "#     # Initialize the simulated prices list with the last closing price of `agg` and `spy`\n",
    "\n",
    "#     simulated_port_prices = [agg_last_price]\n",
    "#     simulated_spy_prices = [spy_last_price]\n",
    "    \n",
    "#      # Simulate the returns for 252 days * 30 years\n",
    "    for i in range(num_trading_days):\n",
    "        \n",
    "        \n",
    "        \n",
    "#         # Calculate the simulated price using the last price within the list\n",
    "        \n",
    "        #simulated_port_price = simulated_port_prices[-1] * (1 + np.random.normal())\n",
    "        simulated_wmt_price = simulated_wmt_prices[-1] * (1 + np.random.normal(avg_daily_return_wmt, std_wmt))\n",
    "        simulated_pg_price = simulated_pg_prices[-1] * (1 + np.random.normal(avg_daily_return_pg, std_pg))\n",
    "        simulated_jnj_price = simulated_jnj_prices[-1] * (1 + np.random.normal(avg_daily_return_wmt, std_wmt))\n",
    "\n",
    "#         simulated_agg_price = simulated_agg_prices[-1] * (1 + np.random.normal(avg_daily_return_agg, std_dev_daily_return_agg))\n",
    "#         simulated_spy_price = simulated_spy_prices[-1] * (1 + np.random.normal(avg_daily_return_spy, std_dev_daily_return_spy))\n",
    "        \n",
    "#         # Append the simulated price to the list\n",
    "        simulated_jnj_prices.append(simulated_jnj_price)\n",
    "        simulated_wmt_prices.append(simulated_wmt_price)\n",
    "        simulated_pg_prices.append(simulated_pg_price)\n",
    "    \n",
    "#     # Append a simulated prices of each simulation to DataFrame\n",
    "        simulated_price_df[\"JNJ prices\"] = pd.Series(simulated_jnj_prices)\n",
    "        simulated_price_df[\"WMT prices\"] = pd.Series(simulated_wmt_prices)\n",
    "        simulated_price_df[\"PG prices\"] = pd.Series(simulated_pg_prices)\n",
    "#     simulated_price_df[\"AGG prices\"] = pd.Series(simulated_agg_prices)\n",
    "#     simulated_price_df[\"SPY prices\"] = pd.Series(simulated_spy_prices)\n",
    "    \n",
    "#     # Calculate the daily returns of simulated prices\n",
    "        simulated_daily_returns = simulated_price_df.pct_change()\n",
    "    \n",
    "#     # Set the portfolio weights (33.33%)\n",
    "        weights = [0.3333, 0.3333, 0.3333]\n",
    "\n",
    "#     # Use the `dot` function with the weights to multiply weights with each column's simulated daily returns\n",
    "        portfolio_daily_returns = simulated_daily_returns.dot(weights)\n",
    "    \n",
    "#     # Calculate the normalized, cumulative return series\n",
    "        portfolio_cumulative_returns[n] = (1 + portfolio_daily_returns.fillna(0)).cumprod()\n",
    "\n",
    "# # Print records from the DataFrame\n",
    "portfolio_cumulative_returns.head()    "
   ]
  },
  {
   "cell_type": "code",
   "execution_count": null,
   "metadata": {},
   "outputs": [],
   "source": [
    "# Visualize the Simulation\n",
    "plot_title = f\"{x+1} Simulations of Cumulative Portfolio Return Trajectories Over the Next 30 Trading Years\"\n",
    "portfolio_cumulative_returns.plot(legend=None, title=plot_title)"
   ]
  },
  {
   "cell_type": "code",
   "execution_count": null,
   "metadata": {},
   "outputs": [],
   "source": [
    "# Display the 90% confidence interval for the ending returns\n",
    "confidence_interval = ending_cumulative_returns.quantile(q=[0.05, 0.95])\n",
    "confidence_interval"
   ]
  },
  {
   "cell_type": "code",
   "execution_count": null,
   "metadata": {},
   "outputs": [],
   "source": [
    "ending_cumulative_returns.plot(kind='hist')"
   ]
  },
  {
   "cell_type": "code",
   "execution_count": null,
   "metadata": {},
   "outputs": [],
   "source": [
    "# Visualize the distribution of the ending returns\n",
    "ending_cumulative_returns.value_counts(bins=10) / len(ending_cumulative_returns)\n",
    "\n",
    "plt.figure();\n",
    "ending_cumulative_returns.plot(kind='hist', density=True, bins=10)\n",
    "plt.axvline(confidence_interval.iloc[0], color='r')\n",
    "plt.axvline(confidence_interval.iloc[1], color='r')"
   ]
  },
  {
   "cell_type": "code",
   "execution_count": null,
   "metadata": {},
   "outputs": [],
   "source": [
    "#FINAL EVALUATION: WHERE WILL THIS PORTFOLIO NET OUT?"
   ]
  }
 ],
 "metadata": {
  "kernelspec": {
   "display_name": "Python 3",
   "language": "python",
   "name": "python3"
  },
  "language_info": {
   "codemirror_mode": {
    "name": "ipython",
    "version": 3
   },
   "file_extension": ".py",
   "mimetype": "text/x-python",
   "name": "python",
   "nbconvert_exporter": "python",
   "pygments_lexer": "ipython3",
   "version": "3.7.7"
  }
 },
 "nbformat": 4,
 "nbformat_minor": 4
}
