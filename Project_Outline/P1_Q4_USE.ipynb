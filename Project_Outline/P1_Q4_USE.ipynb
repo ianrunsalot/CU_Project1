{
 "cells": [
  {
   "cell_type": "code",
   "execution_count": 1,
   "metadata": {},
   "outputs": [],
   "source": [
    "#IMPORT LIBRARIES\n",
    "import numpy as np\n",
    "import pandas as pd\n",
    "import os\n",
    "from datetime import datetime, timedelta\n",
    "import matplotlib.pyplot as plt\n",
    "import alpaca_trade_api as tradeapi\n",
    "from pathlib import Path\n",
    "from dotenv import load_dotenv\n",
    "import plotly.express as px\n",
    "import seaborn as sns\n",
    "%matplotlib inline"
   ]
  },
  {
   "cell_type": "code",
   "execution_count": 2,
   "metadata": {},
   "outputs": [],
   "source": [
    "np.random.seed(42)"
   ]
  },
  {
   "cell_type": "code",
   "execution_count": 3,
   "metadata": {},
   "outputs": [],
   "source": [
    "#IMPORT DATA FOLLOWING P1_Q3 FOR THREE SECTORS/STOCKS\n",
    "#Walmart, P&G, J&J. \\\\\\\n",
    "# Read the Mapbox API key\n",
    "from dotenv import load_dotenv\n",
    "load_dotenv()\n",
    "\n",
    "\n",
    "alpaca_api_key = os.getenv(\"ALPACA_API_KEY\")\n",
    "alpaca_secret_key = os.getenv(\"ALPACA_SECRET_KEY\")\n",
    "\n",
    "# api = tradeapi.REST()\n",
    "api = tradeapi.REST(alpaca_api_key, alpaca_secret_key, api_version='v2')"
   ]
  },
  {
   "cell_type": "code",
   "execution_count": 4,
   "metadata": {},
   "outputs": [
    {
     "data": {
      "text/plain": [
       "20"
      ]
     },
     "execution_count": 4,
     "metadata": {},
     "output_type": "execute_result"
    }
   ],
   "source": [
    "len(alpaca_api_key)"
   ]
  },
  {
   "cell_type": "code",
   "execution_count": 5,
   "metadata": {},
   "outputs": [
    {
     "data": {
      "text/plain": [
       "40"
      ]
     },
     "execution_count": 5,
     "metadata": {},
     "output_type": "execute_result"
    }
   ],
   "source": [
    "len(alpaca_secret_key)"
   ]
  },
  {
   "cell_type": "code",
   "execution_count": 6,
   "metadata": {},
   "outputs": [],
   "source": [
    "list_of_tickers = [\"WMT\", \"JNJ\", \"PG\",\"JPM\", \"MCD\",\"XOM\"]\n",
    "# YOUR CODE HERE\n",
    "# Get all Asstes\n",
    "assets = api.list_assets()\n",
    "\n",
    "# Keep only tradeable assets\n",
    "tradeable = [asset for asset in assets if asset.tradable ]\n"
   ]
  },
  {
   "cell_type": "code",
   "execution_count": 7,
   "metadata": {},
   "outputs": [
    {
     "data": {
      "text/html": [
       "<div>\n",
       "<style scoped>\n",
       "    .dataframe tbody tr th:only-of-type {\n",
       "        vertical-align: middle;\n",
       "    }\n",
       "\n",
       "    .dataframe tbody tr th {\n",
       "        vertical-align: top;\n",
       "    }\n",
       "\n",
       "    .dataframe thead th {\n",
       "        text-align: right;\n",
       "    }\n",
       "</style>\n",
       "<table border=\"1\" class=\"dataframe\">\n",
       "  <thead>\n",
       "    <tr style=\"text-align: right;\">\n",
       "      <th></th>\n",
       "      <th>symbol</th>\n",
       "    </tr>\n",
       "  </thead>\n",
       "  <tbody>\n",
       "    <tr>\n",
       "      <th>7566</th>\n",
       "      <td>SPY</td>\n",
       "    </tr>\n",
       "    <tr>\n",
       "      <th>5640</th>\n",
       "      <td>DRIP</td>\n",
       "    </tr>\n",
       "    <tr>\n",
       "      <th>5032</th>\n",
       "      <td>RBCAA</td>\n",
       "    </tr>\n",
       "    <tr>\n",
       "      <th>2766</th>\n",
       "      <td>IDXG</td>\n",
       "    </tr>\n",
       "    <tr>\n",
       "      <th>2111</th>\n",
       "      <td>AMTD</td>\n",
       "    </tr>\n",
       "  </tbody>\n",
       "</table>\n",
       "</div>"
      ],
      "text/plain": [
       "     symbol\n",
       "7566    SPY\n",
       "5640   DRIP\n",
       "5032  RBCAA\n",
       "2766   IDXG\n",
       "2111   AMTD"
      ]
     },
     "execution_count": 7,
     "metadata": {},
     "output_type": "execute_result"
    }
   ],
   "source": [
    "# Create a new empty DataFrame\n",
    "asset_info_df = pd.DataFrame()\n",
    "asset_info_df['symbol'] = pd.Series([asset.symbol for asset in assets])\n",
    "\n",
    "# Display the first 10 asset tickers\n",
    "asset_info_df.sample(5)"
   ]
  },
  {
   "cell_type": "code",
   "execution_count": 8,
   "metadata": {},
   "outputs": [
    {
     "data": {
      "text/html": [
       "<div>\n",
       "<style scoped>\n",
       "    .dataframe tbody tr th:only-of-type {\n",
       "        vertical-align: middle;\n",
       "    }\n",
       "\n",
       "    .dataframe tbody tr th {\n",
       "        vertical-align: top;\n",
       "    }\n",
       "\n",
       "    .dataframe thead tr th {\n",
       "        text-align: left;\n",
       "    }\n",
       "\n",
       "    .dataframe thead tr:last-of-type th {\n",
       "        text-align: right;\n",
       "    }\n",
       "</style>\n",
       "<table border=\"1\" class=\"dataframe\">\n",
       "  <thead>\n",
       "    <tr>\n",
       "      <th></th>\n",
       "      <th colspan=\"5\" halign=\"left\">JNJ</th>\n",
       "      <th colspan=\"5\" halign=\"left\">JPM</th>\n",
       "      <th>...</th>\n",
       "      <th colspan=\"5\" halign=\"left\">WMT</th>\n",
       "      <th colspan=\"5\" halign=\"left\">XOM</th>\n",
       "    </tr>\n",
       "    <tr>\n",
       "      <th></th>\n",
       "      <th>open</th>\n",
       "      <th>high</th>\n",
       "      <th>low</th>\n",
       "      <th>close</th>\n",
       "      <th>volume</th>\n",
       "      <th>open</th>\n",
       "      <th>high</th>\n",
       "      <th>low</th>\n",
       "      <th>close</th>\n",
       "      <th>volume</th>\n",
       "      <th>...</th>\n",
       "      <th>open</th>\n",
       "      <th>high</th>\n",
       "      <th>low</th>\n",
       "      <th>close</th>\n",
       "      <th>volume</th>\n",
       "      <th>open</th>\n",
       "      <th>high</th>\n",
       "      <th>low</th>\n",
       "      <th>close</th>\n",
       "      <th>volume</th>\n",
       "    </tr>\n",
       "    <tr>\n",
       "      <th>time</th>\n",
       "      <th></th>\n",
       "      <th></th>\n",
       "      <th></th>\n",
       "      <th></th>\n",
       "      <th></th>\n",
       "      <th></th>\n",
       "      <th></th>\n",
       "      <th></th>\n",
       "      <th></th>\n",
       "      <th></th>\n",
       "      <th></th>\n",
       "      <th></th>\n",
       "      <th></th>\n",
       "      <th></th>\n",
       "      <th></th>\n",
       "      <th></th>\n",
       "      <th></th>\n",
       "      <th></th>\n",
       "      <th></th>\n",
       "      <th></th>\n",
       "      <th></th>\n",
       "    </tr>\n",
       "  </thead>\n",
       "  <tbody>\n",
       "    <tr>\n",
       "      <th>2019-12-23 00:00:00-05:00</th>\n",
       "      <td>145.55</td>\n",
       "      <td>146.7600</td>\n",
       "      <td>145.3401</td>\n",
       "      <td>146.41</td>\n",
       "      <td>3220584</td>\n",
       "      <td>137.60</td>\n",
       "      <td>137.91</td>\n",
       "      <td>136.8800</td>\n",
       "      <td>137.22</td>\n",
       "      <td>6163277</td>\n",
       "      <td>...</td>\n",
       "      <td>120.20</td>\n",
       "      <td>120.69</td>\n",
       "      <td>119.010</td>\n",
       "      <td>119.03</td>\n",
       "      <td>3489925</td>\n",
       "      <td>69.86</td>\n",
       "      <td>70.3000</td>\n",
       "      <td>69.5300</td>\n",
       "      <td>70.29</td>\n",
       "      <td>9421161</td>\n",
       "    </tr>\n",
       "    <tr>\n",
       "      <th>2019-12-24 00:00:00-05:00</th>\n",
       "      <td>146.00</td>\n",
       "      <td>146.0100</td>\n",
       "      <td>145.2600</td>\n",
       "      <td>145.97</td>\n",
       "      <td>1729932</td>\n",
       "      <td>137.33</td>\n",
       "      <td>137.63</td>\n",
       "      <td>137.0641</td>\n",
       "      <td>137.58</td>\n",
       "      <td>2824296</td>\n",
       "      <td>...</td>\n",
       "      <td>119.13</td>\n",
       "      <td>119.60</td>\n",
       "      <td>119.010</td>\n",
       "      <td>119.52</td>\n",
       "      <td>1991969</td>\n",
       "      <td>70.35</td>\n",
       "      <td>70.5000</td>\n",
       "      <td>69.9101</td>\n",
       "      <td>70.02</td>\n",
       "      <td>3650368</td>\n",
       "    </tr>\n",
       "    <tr>\n",
       "      <th>2019-12-26 00:00:00-05:00</th>\n",
       "      <td>145.97</td>\n",
       "      <td>146.1827</td>\n",
       "      <td>145.1600</td>\n",
       "      <td>145.83</td>\n",
       "      <td>2233533</td>\n",
       "      <td>137.89</td>\n",
       "      <td>139.10</td>\n",
       "      <td>137.7800</td>\n",
       "      <td>139.09</td>\n",
       "      <td>4753888</td>\n",
       "      <td>...</td>\n",
       "      <td>119.61</td>\n",
       "      <td>119.85</td>\n",
       "      <td>118.950</td>\n",
       "      <td>119.55</td>\n",
       "      <td>3062390</td>\n",
       "      <td>70.19</td>\n",
       "      <td>70.5000</td>\n",
       "      <td>70.0100</td>\n",
       "      <td>70.13</td>\n",
       "      <td>6831328</td>\n",
       "    </tr>\n",
       "    <tr>\n",
       "      <th>2019-12-27 00:00:00-05:00</th>\n",
       "      <td>146.20</td>\n",
       "      <td>146.5500</td>\n",
       "      <td>145.5400</td>\n",
       "      <td>145.76</td>\n",
       "      <td>1939538</td>\n",
       "      <td>139.30</td>\n",
       "      <td>139.77</td>\n",
       "      <td>138.6697</td>\n",
       "      <td>139.14</td>\n",
       "      <td>4864945</td>\n",
       "      <td>...</td>\n",
       "      <td>119.94</td>\n",
       "      <td>119.94</td>\n",
       "      <td>119.245</td>\n",
       "      <td>119.57</td>\n",
       "      <td>2557506</td>\n",
       "      <td>70.20</td>\n",
       "      <td>70.3123</td>\n",
       "      <td>69.8800</td>\n",
       "      <td>69.89</td>\n",
       "      <td>7459006</td>\n",
       "    </tr>\n",
       "    <tr>\n",
       "      <th>2019-12-30 00:00:00-05:00</th>\n",
       "      <td>145.78</td>\n",
       "      <td>146.2000</td>\n",
       "      <td>145.0300</td>\n",
       "      <td>145.35</td>\n",
       "      <td>2089996</td>\n",
       "      <td>139.90</td>\n",
       "      <td>140.08</td>\n",
       "      <td>138.4700</td>\n",
       "      <td>138.68</td>\n",
       "      <td>5571805</td>\n",
       "      <td>...</td>\n",
       "      <td>119.80</td>\n",
       "      <td>119.81</td>\n",
       "      <td>119.130</td>\n",
       "      <td>119.42</td>\n",
       "      <td>2373893</td>\n",
       "      <td>70.09</td>\n",
       "      <td>70.4350</td>\n",
       "      <td>69.4000</td>\n",
       "      <td>69.48</td>\n",
       "      <td>10463554</td>\n",
       "    </tr>\n",
       "  </tbody>\n",
       "</table>\n",
       "<p>5 rows × 30 columns</p>\n",
       "</div>"
      ],
      "text/plain": [
       "                              JNJ                                       \\\n",
       "                             open      high       low   close   volume   \n",
       "time                                                                     \n",
       "2019-12-23 00:00:00-05:00  145.55  146.7600  145.3401  146.41  3220584   \n",
       "2019-12-24 00:00:00-05:00  146.00  146.0100  145.2600  145.97  1729932   \n",
       "2019-12-26 00:00:00-05:00  145.97  146.1827  145.1600  145.83  2233533   \n",
       "2019-12-27 00:00:00-05:00  146.20  146.5500  145.5400  145.76  1939538   \n",
       "2019-12-30 00:00:00-05:00  145.78  146.2000  145.0300  145.35  2089996   \n",
       "\n",
       "                              JPM                                     ...  \\\n",
       "                             open    high       low   close   volume  ...   \n",
       "time                                                                  ...   \n",
       "2019-12-23 00:00:00-05:00  137.60  137.91  136.8800  137.22  6163277  ...   \n",
       "2019-12-24 00:00:00-05:00  137.33  137.63  137.0641  137.58  2824296  ...   \n",
       "2019-12-26 00:00:00-05:00  137.89  139.10  137.7800  139.09  4753888  ...   \n",
       "2019-12-27 00:00:00-05:00  139.30  139.77  138.6697  139.14  4864945  ...   \n",
       "2019-12-30 00:00:00-05:00  139.90  140.08  138.4700  138.68  5571805  ...   \n",
       "\n",
       "                              WMT                                      XOM  \\\n",
       "                             open    high      low   close   volume   open   \n",
       "time                                                                         \n",
       "2019-12-23 00:00:00-05:00  120.20  120.69  119.010  119.03  3489925  69.86   \n",
       "2019-12-24 00:00:00-05:00  119.13  119.60  119.010  119.52  1991969  70.35   \n",
       "2019-12-26 00:00:00-05:00  119.61  119.85  118.950  119.55  3062390  70.19   \n",
       "2019-12-27 00:00:00-05:00  119.94  119.94  119.245  119.57  2557506  70.20   \n",
       "2019-12-30 00:00:00-05:00  119.80  119.81  119.130  119.42  2373893  70.09   \n",
       "\n",
       "                                                              \n",
       "                              high      low  close    volume  \n",
       "time                                                          \n",
       "2019-12-23 00:00:00-05:00  70.3000  69.5300  70.29   9421161  \n",
       "2019-12-24 00:00:00-05:00  70.5000  69.9101  70.02   3650368  \n",
       "2019-12-26 00:00:00-05:00  70.5000  70.0100  70.13   6831328  \n",
       "2019-12-27 00:00:00-05:00  70.3123  69.8800  69.89   7459006  \n",
       "2019-12-30 00:00:00-05:00  70.4350  69.4000  69.48  10463554  \n",
       "\n",
       "[5 rows x 30 columns]"
      ]
     },
     "execution_count": 8,
     "metadata": {},
     "output_type": "execute_result"
    }
   ],
   "source": [
    "tickers = [\"WMT\", \"JNJ\", \"PG\",\"JPM\", \"MCD\",\"XOM\"]\n",
    "\n",
    "# Set timeframe to '1D'\n",
    "timeframe = '1D'\n",
    "\n",
    "# Set start and end datetimes of 1 year, between now and 365 days ago.\n",
    "end_date = datetime.now()\n",
    "start_date = end_date + timedelta(-88)\n",
    "\n",
    "# Get 1 year's worth of historical data for AAPL\n",
    "df = api.get_barset(\n",
    "    tickers,\n",
    "    timeframe,\n",
    "    limit=None,\n",
    "    start=start_date,\n",
    "    end=end_date,\n",
    "    after=None,\n",
    "    until=None,\n",
    ").df\n",
    "\n",
    "df.head()"
   ]
  },
  {
   "cell_type": "code",
   "execution_count": 9,
   "metadata": {},
   "outputs": [
    {
     "data": {
      "text/html": [
       "<div>\n",
       "<style scoped>\n",
       "    .dataframe tbody tr th:only-of-type {\n",
       "        vertical-align: middle;\n",
       "    }\n",
       "\n",
       "    .dataframe tbody tr th {\n",
       "        vertical-align: top;\n",
       "    }\n",
       "\n",
       "    .dataframe thead tr th {\n",
       "        text-align: left;\n",
       "    }\n",
       "\n",
       "    .dataframe thead tr:last-of-type th {\n",
       "        text-align: right;\n",
       "    }\n",
       "</style>\n",
       "<table border=\"1\" class=\"dataframe\">\n",
       "  <thead>\n",
       "    <tr>\n",
       "      <th></th>\n",
       "      <th>JNJ</th>\n",
       "      <th>JPM</th>\n",
       "      <th>MCD</th>\n",
       "      <th>PG</th>\n",
       "      <th>WMT</th>\n",
       "      <th>XOM</th>\n",
       "    </tr>\n",
       "    <tr>\n",
       "      <th></th>\n",
       "      <th>close</th>\n",
       "      <th>close</th>\n",
       "      <th>close</th>\n",
       "      <th>close</th>\n",
       "      <th>close</th>\n",
       "      <th>close</th>\n",
       "    </tr>\n",
       "    <tr>\n",
       "      <th>time</th>\n",
       "      <th></th>\n",
       "      <th></th>\n",
       "      <th></th>\n",
       "      <th></th>\n",
       "      <th></th>\n",
       "      <th></th>\n",
       "    </tr>\n",
       "  </thead>\n",
       "  <tbody>\n",
       "    <tr>\n",
       "      <th>2019-12-23 00:00:00-05:00</th>\n",
       "      <td>146.41</td>\n",
       "      <td>137.22</td>\n",
       "      <td>196.23</td>\n",
       "      <td>124.91</td>\n",
       "      <td>119.03</td>\n",
       "      <td>70.29</td>\n",
       "    </tr>\n",
       "    <tr>\n",
       "      <th>2019-12-24 00:00:00-05:00</th>\n",
       "      <td>145.97</td>\n",
       "      <td>137.58</td>\n",
       "      <td>196.68</td>\n",
       "      <td>125.18</td>\n",
       "      <td>119.52</td>\n",
       "      <td>70.02</td>\n",
       "    </tr>\n",
       "    <tr>\n",
       "      <th>2019-12-26 00:00:00-05:00</th>\n",
       "      <td>145.83</td>\n",
       "      <td>139.09</td>\n",
       "      <td>197.16</td>\n",
       "      <td>125.23</td>\n",
       "      <td>119.55</td>\n",
       "      <td>70.13</td>\n",
       "    </tr>\n",
       "    <tr>\n",
       "      <th>2019-12-27 00:00:00-05:00</th>\n",
       "      <td>145.76</td>\n",
       "      <td>139.14</td>\n",
       "      <td>198.16</td>\n",
       "      <td>126.07</td>\n",
       "      <td>119.57</td>\n",
       "      <td>69.89</td>\n",
       "    </tr>\n",
       "    <tr>\n",
       "      <th>2019-12-30 00:00:00-05:00</th>\n",
       "      <td>145.35</td>\n",
       "      <td>138.68</td>\n",
       "      <td>196.99</td>\n",
       "      <td>124.51</td>\n",
       "      <td>119.42</td>\n",
       "      <td>69.48</td>\n",
       "    </tr>\n",
       "  </tbody>\n",
       "</table>\n",
       "</div>"
      ],
      "text/plain": [
       "                              JNJ     JPM     MCD      PG     WMT    XOM\n",
       "                            close   close   close   close   close  close\n",
       "time                                                                    \n",
       "2019-12-23 00:00:00-05:00  146.41  137.22  196.23  124.91  119.03  70.29\n",
       "2019-12-24 00:00:00-05:00  145.97  137.58  196.68  125.18  119.52  70.02\n",
       "2019-12-26 00:00:00-05:00  145.83  139.09  197.16  125.23  119.55  70.13\n",
       "2019-12-27 00:00:00-05:00  145.76  139.14  198.16  126.07  119.57  69.89\n",
       "2019-12-30 00:00:00-05:00  145.35  138.68  196.99  124.51  119.42  69.48"
      ]
     },
     "execution_count": 9,
     "metadata": {},
     "output_type": "execute_result"
    }
   ],
   "source": [
    "df.drop(columns=['open', 'high', 'low', 'volume'], level=1, inplace=True)\n",
    "df.head()"
   ]
  },
  {
   "cell_type": "code",
   "execution_count": 36,
   "metadata": {},
   "outputs": [
    {
     "data": {
      "text/html": [
       "<div>\n",
       "<style scoped>\n",
       "    .dataframe tbody tr th:only-of-type {\n",
       "        vertical-align: middle;\n",
       "    }\n",
       "\n",
       "    .dataframe tbody tr th {\n",
       "        vertical-align: top;\n",
       "    }\n",
       "\n",
       "    .dataframe thead th {\n",
       "        text-align: right;\n",
       "    }\n",
       "</style>\n",
       "<table border=\"1\" class=\"dataframe\">\n",
       "  <thead>\n",
       "    <tr style=\"text-align: right;\">\n",
       "      <th></th>\n",
       "      <th>GDP</th>\n",
       "    </tr>\n",
       "    <tr>\n",
       "      <th>DATE</th>\n",
       "      <th></th>\n",
       "    </tr>\n",
       "  </thead>\n",
       "  <tbody>\n",
       "    <tr>\n",
       "      <th>2019-01-01</th>\n",
       "      <td>18927.281</td>\n",
       "    </tr>\n",
       "    <tr>\n",
       "      <th>2019-04-01</th>\n",
       "      <td>19021.860</td>\n",
       "    </tr>\n",
       "    <tr>\n",
       "      <th>2019-07-01</th>\n",
       "      <td>19121.112</td>\n",
       "    </tr>\n",
       "    <tr>\n",
       "      <th>2019-10-01</th>\n",
       "      <td>19221.970</td>\n",
       "    </tr>\n",
       "    <tr>\n",
       "      <th>2020-01-01</th>\n",
       "      <td>18987.877</td>\n",
       "    </tr>\n",
       "  </tbody>\n",
       "</table>\n",
       "</div>"
      ],
      "text/plain": [
       "                  GDP\n",
       "DATE                 \n",
       "2019-01-01  18927.281\n",
       "2019-04-01  19021.860\n",
       "2019-07-01  19121.112\n",
       "2019-10-01  19221.970\n",
       "2020-01-01  18987.877"
      ]
     },
     "execution_count": 36,
     "metadata": {},
     "output_type": "execute_result"
    }
   ],
   "source": [
    "# IMPORT DATA SETS\n",
    "gdp_path = Path(\"Data_Sets/GDPC1.csv\")\n",
    "gdp_data = pd.read_csv(gdp_path, index_col=\"DATE\", infer_datetime_format=True, parse_dates=True)\n",
    "gdp_data = gdp_data.sort_index()\n",
    "gdp_data.columns = [\"GDP\"]\n",
    "gdp_data.tail()"
   ]
  },
  {
   "cell_type": "code",
   "execution_count": 39,
   "metadata": {},
   "outputs": [
    {
     "data": {
      "text/html": [
       "<div>\n",
       "<style scoped>\n",
       "    .dataframe tbody tr th:only-of-type {\n",
       "        vertical-align: middle;\n",
       "    }\n",
       "\n",
       "    .dataframe tbody tr th {\n",
       "        vertical-align: top;\n",
       "    }\n",
       "\n",
       "    .dataframe thead th {\n",
       "        text-align: right;\n",
       "    }\n",
       "</style>\n",
       "<table border=\"1\" class=\"dataframe\">\n",
       "  <thead>\n",
       "    <tr style=\"text-align: right;\">\n",
       "      <th></th>\n",
       "      <th>MEDIAN HOUSE PRICE</th>\n",
       "    </tr>\n",
       "    <tr>\n",
       "      <th>DATE</th>\n",
       "      <th></th>\n",
       "    </tr>\n",
       "  </thead>\n",
       "  <tbody>\n",
       "    <tr>\n",
       "      <th>2019-01-01</th>\n",
       "      <td>313000.0</td>\n",
       "    </tr>\n",
       "    <tr>\n",
       "      <th>2019-04-01</th>\n",
       "      <td>322500.0</td>\n",
       "    </tr>\n",
       "    <tr>\n",
       "      <th>2019-07-01</th>\n",
       "      <td>318400.0</td>\n",
       "    </tr>\n",
       "    <tr>\n",
       "      <th>2019-10-01</th>\n",
       "      <td>327100.0</td>\n",
       "    </tr>\n",
       "    <tr>\n",
       "      <th>2020-01-01</th>\n",
       "      <td>327100.0</td>\n",
       "    </tr>\n",
       "  </tbody>\n",
       "</table>\n",
       "</div>"
      ],
      "text/plain": [
       "            MEDIAN HOUSE PRICE\n",
       "DATE                          \n",
       "2019-01-01            313000.0\n",
       "2019-04-01            322500.0\n",
       "2019-07-01            318400.0\n",
       "2019-10-01            327100.0\n",
       "2020-01-01            327100.0"
      ]
     },
     "execution_count": 39,
     "metadata": {},
     "output_type": "execute_result"
    }
   ],
   "source": [
    "median_home_price_path = Path(\"Data_Sets/MSPUS.csv\")\n",
    "mhp_data = pd.read_csv(median_home_price_path, index_col=\"DATE\", infer_datetime_format=True, parse_dates=True)\n",
    "mhp_data = mhp_data.sort_index()\n",
    "mhp_data.columns=['MEDIAN HOUSE PRICE']\n",
    "mhp_data.tail()"
   ]
  },
  {
   "cell_type": "code",
   "execution_count": 40,
   "metadata": {},
   "outputs": [
    {
     "data": {
      "text/html": [
       "<div>\n",
       "<style scoped>\n",
       "    .dataframe tbody tr th:only-of-type {\n",
       "        vertical-align: middle;\n",
       "    }\n",
       "\n",
       "    .dataframe tbody tr th {\n",
       "        vertical-align: top;\n",
       "    }\n",
       "\n",
       "    .dataframe thead th {\n",
       "        text-align: right;\n",
       "    }\n",
       "</style>\n",
       "<table border=\"1\" class=\"dataframe\">\n",
       "  <thead>\n",
       "    <tr style=\"text-align: right;\">\n",
       "      <th></th>\n",
       "      <th>UNEMPLOYMENT RATE</th>\n",
       "    </tr>\n",
       "    <tr>\n",
       "      <th>DATE</th>\n",
       "      <th></th>\n",
       "    </tr>\n",
       "  </thead>\n",
       "  <tbody>\n",
       "    <tr>\n",
       "      <th>2019-12-01</th>\n",
       "      <td>3.5</td>\n",
       "    </tr>\n",
       "    <tr>\n",
       "      <th>2020-01-01</th>\n",
       "      <td>3.6</td>\n",
       "    </tr>\n",
       "    <tr>\n",
       "      <th>2020-02-01</th>\n",
       "      <td>3.5</td>\n",
       "    </tr>\n",
       "    <tr>\n",
       "      <th>2020-03-01</th>\n",
       "      <td>4.4</td>\n",
       "    </tr>\n",
       "    <tr>\n",
       "      <th>2020-04-01</th>\n",
       "      <td>14.7</td>\n",
       "    </tr>\n",
       "  </tbody>\n",
       "</table>\n",
       "</div>"
      ],
      "text/plain": [
       "            UNEMPLOYMENT RATE\n",
       "DATE                         \n",
       "2019-12-01                3.5\n",
       "2020-01-01                3.6\n",
       "2020-02-01                3.5\n",
       "2020-03-01                4.4\n",
       "2020-04-01               14.7"
      ]
     },
     "execution_count": 40,
     "metadata": {},
     "output_type": "execute_result"
    }
   ],
   "source": [
    "unemployment_path = Path(\"Data_Sets/unemploymentrate.csv\")\n",
    "unempl_data = pd.read_csv(unemployment_path, index_col=\"DATE\", infer_datetime_format=True, parse_dates=True)\n",
    "unempl_data = unempl_data.sort_index()\n",
    "unempl_data.columns=[\"UNEMPLOYMENT RATE\"]\n",
    "unempl_data.tail()"
   ]
  },
  {
   "cell_type": "code",
   "execution_count": 42,
   "metadata": {},
   "outputs": [
    {
     "data": {
      "text/html": [
       "<div>\n",
       "<style scoped>\n",
       "    .dataframe tbody tr th:only-of-type {\n",
       "        vertical-align: middle;\n",
       "    }\n",
       "\n",
       "    .dataframe tbody tr th {\n",
       "        vertical-align: top;\n",
       "    }\n",
       "\n",
       "    .dataframe thead th {\n",
       "        text-align: right;\n",
       "    }\n",
       "</style>\n",
       "<table border=\"1\" class=\"dataframe\">\n",
       "  <thead>\n",
       "    <tr style=\"text-align: right;\">\n",
       "      <th></th>\n",
       "      <th>YIELD RATE</th>\n",
       "    </tr>\n",
       "    <tr>\n",
       "      <th>DATE</th>\n",
       "      <th></th>\n",
       "    </tr>\n",
       "  </thead>\n",
       "  <tbody>\n",
       "    <tr>\n",
       "      <th>2020-05-06</th>\n",
       "      <td>0.55</td>\n",
       "    </tr>\n",
       "    <tr>\n",
       "      <th>2020-05-07</th>\n",
       "      <td>0.5</td>\n",
       "    </tr>\n",
       "    <tr>\n",
       "      <th>2020-05-08</th>\n",
       "      <td>0.53</td>\n",
       "    </tr>\n",
       "    <tr>\n",
       "      <th>2020-05-11</th>\n",
       "      <td>0.56</td>\n",
       "    </tr>\n",
       "    <tr>\n",
       "      <th>2020-05-12</th>\n",
       "      <td>0.52</td>\n",
       "    </tr>\n",
       "  </tbody>\n",
       "</table>\n",
       "</div>"
      ],
      "text/plain": [
       "           YIELD RATE\n",
       "DATE                 \n",
       "2020-05-06       0.55\n",
       "2020-05-07        0.5\n",
       "2020-05-08       0.53\n",
       "2020-05-11       0.56\n",
       "2020-05-12       0.52"
      ]
     },
     "execution_count": 42,
     "metadata": {},
     "output_type": "execute_result"
    }
   ],
   "source": [
    "yield_rate_path = Path(\"Data_Sets/T10Y2Y.csv\")\n",
    "yield_rate_data = pd.read_csv(yield_rate_path, index_col=\"DATE\", infer_datetime_format=True, parse_dates=True)\n",
    "yield_rate_data = yield_rate_data.sort_index()\n",
    "yield_rate_data.columns=[\"YIELD RATE\"]\n",
    "yield_rate_data.tail()"
   ]
  },
  {
   "cell_type": "code",
   "execution_count": 43,
   "metadata": {},
   "outputs": [
    {
     "data": {
      "text/plain": [
       "GDP    0\n",
       "dtype: int64"
      ]
     },
     "execution_count": 43,
     "metadata": {},
     "output_type": "execute_result"
    }
   ],
   "source": [
    "# Count nulls and cleanse data\n",
    "gdp_data.isnull().sum()"
   ]
  },
  {
   "cell_type": "code",
   "execution_count": 44,
   "metadata": {},
   "outputs": [
    {
     "data": {
      "text/plain": [
       "UNEMPLOYMENT RATE    0\n",
       "dtype: int64"
      ]
     },
     "execution_count": 44,
     "metadata": {},
     "output_type": "execute_result"
    }
   ],
   "source": [
    "unempl_data.isnull().sum()"
   ]
  },
  {
   "cell_type": "code",
   "execution_count": 45,
   "metadata": {},
   "outputs": [
    {
     "data": {
      "text/plain": [
       "YIELD RATE    0\n",
       "dtype: int64"
      ]
     },
     "execution_count": 45,
     "metadata": {},
     "output_type": "execute_result"
    }
   ],
   "source": [
    "yield_rate_data.isnull().sum()"
   ]
  },
  {
   "cell_type": "code",
   "execution_count": 46,
   "metadata": {},
   "outputs": [
    {
     "data": {
      "text/plain": [
       "MEDIAN HOUSE PRICE    0\n",
       "dtype: int64"
      ]
     },
     "execution_count": 46,
     "metadata": {},
     "output_type": "execute_result"
    }
   ],
   "source": [
    "mhp_data.isnull().sum()"
   ]
  },
  {
   "cell_type": "code",
   "execution_count": 47,
   "metadata": {},
   "outputs": [
    {
     "data": {
      "text/plain": [
       "<matplotlib.axes._subplots.AxesSubplot at 0x1a1c8fae90>"
      ]
     },
     "execution_count": 47,
     "metadata": {},
     "output_type": "execute_result"
    },
    {
     "data": {
      "image/png": "[encoded data removed]",
      "text/plain": [
       "<Figure size 432x288 with 1 Axes>"
      ]
     },
     "metadata": {
      "needs_background": "light"
     },
     "output_type": "display_data"
    }
   ],
   "source": [
    "#Plot Line Graph\n",
    "gdp_data.plot(kind=\"line\")"
   ]
  },
  {
   "cell_type": "code",
   "execution_count": 48,
   "metadata": {},
   "outputs": [
    {
     "data": {
      "text/plain": [
       "<matplotlib.axes._subplots.AxesSubplot at 0x1a1abf9e90>"
      ]
     },
     "execution_count": 48,
     "metadata": {},
     "output_type": "execute_result"
    },
    {
     "data": {
      "image/png": "[encoded data removed]",
      "text/plain": [
       "<Figure size 432x288 with 1 Axes>"
      ]
     },
     "metadata": {
      "needs_background": "light"
     },
     "output_type": "display_data"
    }
   ],
   "source": [
    "mhp_data.plot(kind=\"line\")"
   ]
  },
  {
   "cell_type": "code",
   "execution_count": 49,
   "metadata": {},
   "outputs": [
    {
     "data": {
      "text/plain": [
       "<matplotlib.axes._subplots.AxesSubplot at 0x1a1c35cd50>"
      ]
     },
     "execution_count": 49,
     "metadata": {},
     "output_type": "execute_result"
    },
    {
     "data": {
      "image/png": "[encoded data removed]",
      "text/plain": [
       "<Figure size 432x288 with 1 Axes>"
      ]
     },
     "metadata": {
      "needs_background": "light"
     },
     "output_type": "display_data"
    }
   ],
   "source": [
    "unempl_data.plot(kind=\"line\")"
   ]
  },
  {
   "cell_type": "code",
   "execution_count": 50,
   "metadata": {},
   "outputs": [],
   "source": [
    "yield_df = yield_rate_data.replace({\".\":0}).astype(float)"
   ]
  },
  {
   "cell_type": "code",
   "execution_count": 51,
   "metadata": {},
   "outputs": [],
   "source": [
    "yield_df = yield_df[(yield_df.T != 0).any()]"
   ]
  },
  {
   "cell_type": "code",
   "execution_count": 52,
   "metadata": {},
   "outputs": [
    {
     "data": {
      "text/plain": [
       "<matplotlib.axes._subplots.AxesSubplot at 0x1a1bc8ed90>"
      ]
     },
     "execution_count": 52,
     "metadata": {},
     "output_type": "execute_result"
    },
    {
     "data": {
      "image/png": "[encoded data removed]",
      "text/plain": [
       "<Figure size 1440x720 with 1 Axes>"
      ]
     },
     "metadata": {
      "needs_background": "light"
     },
     "output_type": "display_data"
    }
   ],
   "source": [
    "yield_df.plot(kind=\"line\", figsize=(20, 10))"
   ]
  },
  {
   "cell_type": "code",
   "execution_count": 53,
   "metadata": {},
   "outputs": [
    {
     "data": {
      "text/plain": [
       "<matplotlib.axes._subplots.AxesSubplot at 0x1a1c61c490>"
      ]
     },
     "execution_count": 53,
     "metadata": {},
     "output_type": "execute_result"
    },
    {
     "data": {
      "image/png": "[encoded data removed]",
      "text/plain": [
       "<Figure size 432x288 with 1 Axes>"
      ]
     },
     "metadata": {
      "needs_background": "light"
     },
     "output_type": "display_data"
    }
   ],
   "source": [
    "ax = gdp_data.plot(kind=\"line\")\n",
    "mhp_data.plot(kind=\"line\", ax=ax)\n",
    "unempl_data.plot(kind=\"line\", ax=ax)\n",
    "yield_df.plot(ax=ax)"
   ]
  },
  {
   "cell_type": "code",
   "execution_count": null,
   "metadata": {},
   "outputs": [],
   "source": []
  },
  {
   "cell_type": "code",
   "execution_count": 54,
   "metadata": {},
   "outputs": [],
   "source": [
    "gdp_10year = gdp_data.loc['2008-01-01':'2020-01-01']\n",
    "house_10year = mhp_data.loc['2008-01-01':'2020-01-01']\n",
    "ue_10year = unempl_data.loc['2008-01-01':'2020-04-01']\n",
    "yield_10year = yield_df.loc['2008-01-01':'2020-05-12']"
   ]
  },
  {
   "cell_type": "code",
   "execution_count": 100,
   "metadata": {},
   "outputs": [
    {
     "data": {
      "text/plain": [
       "<matplotlib.axes._subplots.AxesSubplot at 0x1a1f32afd0>"
      ]
     },
     "execution_count": 100,
     "metadata": {},
     "output_type": "execute_result"
    },
    {
     "data": {
      "image/png": "[encoded data removed]",
      "text/plain": [
       "<Figure size 432x288 with 2 Axes>"
      ]
     },
     "metadata": {
      "needs_background": "light"
     },
     "output_type": "display_data"
    }
   ],
   "source": [
    "ax = gdp_10year.plot(kind=\"line\")\n",
    "ax1 = ax.twinx()\n",
    "ax.legend(loc=9)\n",
    "house_10year.plot(kind=\"line\", ax=ax1, color = 'g')"
   ]
  },
  {
   "cell_type": "code",
   "execution_count": 99,
   "metadata": {},
   "outputs": [
    {
     "data": {
      "text/plain": [
       "<matplotlib.axes._subplots.AxesSubplot at 0x1a1f402590>"
      ]
     },
     "execution_count": 99,
     "metadata": {},
     "output_type": "execute_result"
    },
    {
     "data": {
      "image/png": "[encoded data removed]",
      "text/plain": [
       "<Figure size 432x288 with 2 Axes>"
      ]
     },
     "metadata": {
      "needs_background": "light"
     },
     "output_type": "display_data"
    }
   ],
   "source": [
    "ax = ue_10year.plot(kind=\"line\")\n",
    "ax3 = ax.twinx()\n",
    "ax.legend(loc=9)\n",
    "yield_10year.plot(kind=\"line\", ax=ax3, color = 'g')"
   ]
  },
  {
   "cell_type": "code",
   "execution_count": 59,
   "metadata": {},
   "outputs": [
    {
     "data": {
      "text/html": [
       "<div>\n",
       "<style scoped>\n",
       "    .dataframe tbody tr th:only-of-type {\n",
       "        vertical-align: middle;\n",
       "    }\n",
       "\n",
       "    .dataframe tbody tr th {\n",
       "        vertical-align: top;\n",
       "    }\n",
       "\n",
       "    .dataframe thead th {\n",
       "        text-align: right;\n",
       "    }\n",
       "</style>\n",
       "<table border=\"1\" class=\"dataframe\">\n",
       "  <thead>\n",
       "    <tr style=\"text-align: right;\">\n",
       "      <th></th>\n",
       "      <th>SNP 500</th>\n",
       "    </tr>\n",
       "    <tr>\n",
       "      <th>Dates</th>\n",
       "      <th></th>\n",
       "    </tr>\n",
       "  </thead>\n",
       "  <tbody>\n",
       "    <tr>\n",
       "      <th>2020-05-01</th>\n",
       "      <td>2830.71</td>\n",
       "    </tr>\n",
       "    <tr>\n",
       "      <th>2020-05-04</th>\n",
       "      <td>2842.74</td>\n",
       "    </tr>\n",
       "    <tr>\n",
       "      <th>2020-05-05</th>\n",
       "      <td>2868.44</td>\n",
       "    </tr>\n",
       "    <tr>\n",
       "      <th>2020-05-06</th>\n",
       "      <td>2848.42</td>\n",
       "    </tr>\n",
       "    <tr>\n",
       "      <th>2020-05-07</th>\n",
       "      <td>2881.19</td>\n",
       "    </tr>\n",
       "  </tbody>\n",
       "</table>\n",
       "</div>"
      ],
      "text/plain": [
       "            SNP 500\n",
       "Dates              \n",
       "2020-05-01  2830.71\n",
       "2020-05-04  2842.74\n",
       "2020-05-05  2868.44\n",
       "2020-05-06  2848.42\n",
       "2020-05-07  2881.19"
      ]
     },
     "execution_count": 59,
     "metadata": {},
     "output_type": "execute_result"
    }
   ],
   "source": [
    "snp_path = Path(\"Data_Sets/SnP500_data.csv\")\n",
    "snp_data = pd.read_csv(snp_path, index_col=\"Dates\", infer_datetime_format=True, parse_dates=True)\n",
    "snp_data = snp_data.sort_index()\n",
    "snp_data.columns=[\"SNP 500\"]\n",
    "snp_data.tail()"
   ]
  },
  {
   "cell_type": "code",
   "execution_count": 60,
   "metadata": {},
   "outputs": [
    {
     "data": {
      "text/html": [
       "<div>\n",
       "<style scoped>\n",
       "    .dataframe tbody tr th:only-of-type {\n",
       "        vertical-align: middle;\n",
       "    }\n",
       "\n",
       "    .dataframe tbody tr th {\n",
       "        vertical-align: top;\n",
       "    }\n",
       "\n",
       "    .dataframe thead th {\n",
       "        text-align: right;\n",
       "    }\n",
       "</style>\n",
       "<table border=\"1\" class=\"dataframe\">\n",
       "  <thead>\n",
       "    <tr style=\"text-align: right;\">\n",
       "      <th></th>\n",
       "      <th>SNP 500</th>\n",
       "    </tr>\n",
       "    <tr>\n",
       "      <th>Dates</th>\n",
       "      <th></th>\n",
       "    </tr>\n",
       "  </thead>\n",
       "  <tbody>\n",
       "    <tr>\n",
       "      <th>2020-01-02</th>\n",
       "      <td>3257.85</td>\n",
       "    </tr>\n",
       "    <tr>\n",
       "      <th>2020-01-03</th>\n",
       "      <td>3234.85</td>\n",
       "    </tr>\n",
       "    <tr>\n",
       "      <th>2020-01-06</th>\n",
       "      <td>3246.28</td>\n",
       "    </tr>\n",
       "    <tr>\n",
       "      <th>2020-01-07</th>\n",
       "      <td>3237.18</td>\n",
       "    </tr>\n",
       "    <tr>\n",
       "      <th>2020-01-08</th>\n",
       "      <td>3253.05</td>\n",
       "    </tr>\n",
       "  </tbody>\n",
       "</table>\n",
       "</div>"
      ],
      "text/plain": [
       "            SNP 500\n",
       "Dates              \n",
       "2020-01-02  3257.85\n",
       "2020-01-03  3234.85\n",
       "2020-01-06  3246.28\n",
       "2020-01-07  3237.18\n",
       "2020-01-08  3253.05"
      ]
     },
     "execution_count": 60,
     "metadata": {},
     "output_type": "execute_result"
    }
   ],
   "source": [
    "snp_2020 = snp_data.loc['2020-01-01':'2020-05-07']\n",
    "snp_2020.head()"
   ]
  },
  {
   "cell_type": "code",
   "execution_count": 61,
   "metadata": {},
   "outputs": [
    {
     "data": {
      "text/html": [
       "<div>\n",
       "<style scoped>\n",
       "    .dataframe tbody tr th:only-of-type {\n",
       "        vertical-align: middle;\n",
       "    }\n",
       "\n",
       "    .dataframe tbody tr th {\n",
       "        vertical-align: top;\n",
       "    }\n",
       "\n",
       "    .dataframe thead th {\n",
       "        text-align: right;\n",
       "    }\n",
       "</style>\n",
       "<table border=\"1\" class=\"dataframe\">\n",
       "  <thead>\n",
       "    <tr style=\"text-align: right;\">\n",
       "      <th></th>\n",
       "      <th>Coronaviarus Search Index</th>\n",
       "    </tr>\n",
       "    <tr>\n",
       "      <th>Day</th>\n",
       "      <th></th>\n",
       "    </tr>\n",
       "  </thead>\n",
       "  <tbody>\n",
       "    <tr>\n",
       "      <th>2020-05-08</th>\n",
       "      <td>14</td>\n",
       "    </tr>\n",
       "    <tr>\n",
       "      <th>2020-05-09</th>\n",
       "      <td>14</td>\n",
       "    </tr>\n",
       "    <tr>\n",
       "      <th>2020-05-10</th>\n",
       "      <td>14</td>\n",
       "    </tr>\n",
       "    <tr>\n",
       "      <th>2020-05-11</th>\n",
       "      <td>15</td>\n",
       "    </tr>\n",
       "    <tr>\n",
       "      <th>2020-05-12</th>\n",
       "      <td>14</td>\n",
       "    </tr>\n",
       "  </tbody>\n",
       "</table>\n",
       "</div>"
      ],
      "text/plain": [
       "            Coronaviarus Search Index\n",
       "Day                                  \n",
       "2020-05-08                         14\n",
       "2020-05-09                         14\n",
       "2020-05-10                         14\n",
       "2020-05-11                         15\n",
       "2020-05-12                         14"
      ]
     },
     "execution_count": 61,
     "metadata": {},
     "output_type": "execute_result"
    }
   ],
   "source": [
    "sem_path = Path(\"Data_Sets/multiTimeline-5.csv\")\n",
    "sem_index = pd.read_csv(sem_path, index_col=\"Day\", infer_datetime_format=True, parse_dates=True)\n",
    "sem_index = sem_index.sort_index()\n",
    "sem_index.columns=[\"Coronaviarus Search Index\"]\n",
    "sem_index.tail()"
   ]
  },
  {
   "cell_type": "code",
   "execution_count": 62,
   "metadata": {},
   "outputs": [
    {
     "data": {
      "text/plain": [
       "<matplotlib.axes._subplots.AxesSubplot at 0x1a1daabd10>"
      ]
     },
     "execution_count": 62,
     "metadata": {},
     "output_type": "execute_result"
    },
    {
     "data": {
      "image/png": "[encoded data removed]",
      "text/plain": [
       "<Figure size 432x288 with 1 Axes>"
      ]
     },
     "metadata": {
      "needs_background": "light"
     },
     "output_type": "display_data"
    }
   ],
   "source": [
    "snp_2020.plot(kind=\"line\")"
   ]
  },
  {
   "cell_type": "code",
   "execution_count": 64,
   "metadata": {},
   "outputs": [],
   "source": [
    "# ax = snp_2020.plot(kind=\"line\")\n",
    "# ax4 = ax.twinx()\n",
    "# sem_index.plot(kind=\"line\", ax=ax4 ,color='r')"
   ]
  },
  {
   "cell_type": "code",
   "execution_count": 98,
   "metadata": {},
   "outputs": [
    {
     "data": {
      "image/png": "[encoded data removed]",
      "text/plain": [
       "<Figure size 432x288 with 2 Axes>"
      ]
     },
     "metadata": {
      "needs_background": "light"
     },
     "output_type": "display_data"
    }
   ],
   "source": [
    "fig = plt.figure()\n",
    "ax = fig.add_subplot(111)\n",
    "ax.plot(snp_2020, label=\"SNP 500\")\n",
    "ax2 = ax.twinx()\n",
    "ax2.plot(sem_index, color='r', label=\"Search Index\")\n",
    "ax.set_ylabel(r\"SNP 500\")\n",
    "ax2.set_ylabel(r\"Google Search Index - Coronavirus\")\n",
    "ax.legend(loc=0)\n",
    "ax2.legend(loc=9)\n",
    "plt.show()"
   ]
  },
  {
   "cell_type": "code",
   "execution_count": 66,
   "metadata": {},
   "outputs": [
    {
     "data": {
      "text/html": [
       "<div>\n",
       "<style scoped>\n",
       "    .dataframe tbody tr th:only-of-type {\n",
       "        vertical-align: middle;\n",
       "    }\n",
       "\n",
       "    .dataframe tbody tr th {\n",
       "        vertical-align: top;\n",
       "    }\n",
       "\n",
       "    .dataframe thead th {\n",
       "        text-align: right;\n",
       "    }\n",
       "</style>\n",
       "<table border=\"1\" class=\"dataframe\">\n",
       "  <thead>\n",
       "    <tr style=\"text-align: right;\">\n",
       "      <th></th>\n",
       "      <th>SNP 500</th>\n",
       "      <th>Coronaviarus Search Index</th>\n",
       "    </tr>\n",
       "  </thead>\n",
       "  <tbody>\n",
       "    <tr>\n",
       "      <th>2020-05-01</th>\n",
       "      <td>2830.71</td>\n",
       "      <td>16</td>\n",
       "    </tr>\n",
       "    <tr>\n",
       "      <th>2020-05-04</th>\n",
       "      <td>2842.74</td>\n",
       "      <td>17</td>\n",
       "    </tr>\n",
       "    <tr>\n",
       "      <th>2020-05-05</th>\n",
       "      <td>2868.44</td>\n",
       "      <td>16</td>\n",
       "    </tr>\n",
       "    <tr>\n",
       "      <th>2020-05-06</th>\n",
       "      <td>2848.42</td>\n",
       "      <td>15</td>\n",
       "    </tr>\n",
       "    <tr>\n",
       "      <th>2020-05-07</th>\n",
       "      <td>2881.19</td>\n",
       "      <td>15</td>\n",
       "    </tr>\n",
       "  </tbody>\n",
       "</table>\n",
       "</div>"
      ],
      "text/plain": [
       "            SNP 500  Coronaviarus Search Index\n",
       "2020-05-01  2830.71                         16\n",
       "2020-05-04  2842.74                         17\n",
       "2020-05-05  2868.44                         16\n",
       "2020-05-06  2848.42                         15\n",
       "2020-05-07  2881.19                         15"
      ]
     },
     "execution_count": 66,
     "metadata": {},
     "output_type": "execute_result"
    }
   ],
   "source": [
    "covid_df = pd.concat([snp_2020, sem_index], axis=\"columns\", join=\"inner\")\n",
    "covid_df.tail()"
   ]
  },
  {
   "cell_type": "code",
   "execution_count": 67,
   "metadata": {},
   "outputs": [],
   "source": [
    "covid_corr = covid_df.pct_change()"
   ]
  },
  {
   "cell_type": "code",
   "execution_count": 68,
   "metadata": {},
   "outputs": [
    {
     "data": {
      "text/html": [
       "<div>\n",
       "<style scoped>\n",
       "    .dataframe tbody tr th:only-of-type {\n",
       "        vertical-align: middle;\n",
       "    }\n",
       "\n",
       "    .dataframe tbody tr th {\n",
       "        vertical-align: top;\n",
       "    }\n",
       "\n",
       "    .dataframe thead th {\n",
       "        text-align: right;\n",
       "    }\n",
       "</style>\n",
       "<table border=\"1\" class=\"dataframe\">\n",
       "  <thead>\n",
       "    <tr style=\"text-align: right;\">\n",
       "      <th></th>\n",
       "      <th>SNP 500</th>\n",
       "      <th>Coronaviarus Search Index</th>\n",
       "    </tr>\n",
       "  </thead>\n",
       "  <tbody>\n",
       "    <tr>\n",
       "      <th>SNP 500</th>\n",
       "      <td>1.000000</td>\n",
       "      <td>-0.281018</td>\n",
       "    </tr>\n",
       "    <tr>\n",
       "      <th>Coronaviarus Search Index</th>\n",
       "      <td>-0.281018</td>\n",
       "      <td>1.000000</td>\n",
       "    </tr>\n",
       "  </tbody>\n",
       "</table>\n",
       "</div>"
      ],
      "text/plain": [
       "                            SNP 500  Coronaviarus Search Index\n",
       "SNP 500                    1.000000                  -0.281018\n",
       "Coronaviarus Search Index -0.281018                   1.000000"
      ]
     },
     "execution_count": 68,
     "metadata": {},
     "output_type": "execute_result"
    }
   ],
   "source": [
    "covid_corr.corr()"
   ]
  },
  {
   "cell_type": "code",
   "execution_count": 69,
   "metadata": {},
   "outputs": [],
   "source": [
    "indicators = pd.concat([gdp_10year, house_10year, ue_10year, yield_10year], axis=\"columns\", join=\"inner\")"
   ]
  },
  {
   "cell_type": "code",
   "execution_count": 70,
   "metadata": {},
   "outputs": [
    {
     "data": {
      "text/html": [
       "<div>\n",
       "<style scoped>\n",
       "    .dataframe tbody tr th:only-of-type {\n",
       "        vertical-align: middle;\n",
       "    }\n",
       "\n",
       "    .dataframe tbody tr th {\n",
       "        vertical-align: top;\n",
       "    }\n",
       "\n",
       "    .dataframe thead th {\n",
       "        text-align: right;\n",
       "    }\n",
       "</style>\n",
       "<table border=\"1\" class=\"dataframe\">\n",
       "  <thead>\n",
       "    <tr style=\"text-align: right;\">\n",
       "      <th></th>\n",
       "      <th>GDP</th>\n",
       "      <th>MEDIAN HOUSE PRICE</th>\n",
       "      <th>UNEMPLOYMENT RATE</th>\n",
       "      <th>YIELD RATE</th>\n",
       "    </tr>\n",
       "  </thead>\n",
       "  <tbody>\n",
       "    <tr>\n",
       "      <th>GDP</th>\n",
       "      <td>1.000000</td>\n",
       "      <td>0.503626</td>\n",
       "      <td>-0.715600</td>\n",
       "      <td>-0.525467</td>\n",
       "    </tr>\n",
       "    <tr>\n",
       "      <th>MEDIAN HOUSE PRICE</th>\n",
       "      <td>0.503626</td>\n",
       "      <td>1.000000</td>\n",
       "      <td>-0.534303</td>\n",
       "      <td>-0.353457</td>\n",
       "    </tr>\n",
       "    <tr>\n",
       "      <th>UNEMPLOYMENT RATE</th>\n",
       "      <td>-0.715600</td>\n",
       "      <td>-0.534303</td>\n",
       "      <td>1.000000</td>\n",
       "      <td>0.312723</td>\n",
       "    </tr>\n",
       "    <tr>\n",
       "      <th>YIELD RATE</th>\n",
       "      <td>-0.525467</td>\n",
       "      <td>-0.353457</td>\n",
       "      <td>0.312723</td>\n",
       "      <td>1.000000</td>\n",
       "    </tr>\n",
       "  </tbody>\n",
       "</table>\n",
       "</div>"
      ],
      "text/plain": [
       "                         GDP  MEDIAN HOUSE PRICE  UNEMPLOYMENT RATE  \\\n",
       "GDP                 1.000000            0.503626          -0.715600   \n",
       "MEDIAN HOUSE PRICE  0.503626            1.000000          -0.534303   \n",
       "UNEMPLOYMENT RATE  -0.715600           -0.534303           1.000000   \n",
       "YIELD RATE         -0.525467           -0.353457           0.312723   \n",
       "\n",
       "                    YIELD RATE  \n",
       "GDP                  -0.525467  \n",
       "MEDIAN HOUSE PRICE   -0.353457  \n",
       "UNEMPLOYMENT RATE     0.312723  \n",
       "YIELD RATE            1.000000  "
      ]
     },
     "execution_count": 70,
     "metadata": {},
     "output_type": "execute_result"
    }
   ],
   "source": [
    "indictor_corr = indicators.pct_change()\n",
    "correlation = indictor_corr.corr()\n",
    "correlation"
   ]
  },
  {
   "cell_type": "code",
   "execution_count": 71,
   "metadata": {},
   "outputs": [
    {
     "data": {
      "text/plain": [
       "<matplotlib.axes._subplots.AxesSubplot at 0x1a1913d850>"
      ]
     },
     "execution_count": 71,
     "metadata": {},
     "output_type": "execute_result"
    },
    {
     "data": {
      "image/png": "[encoded data removed]",
      "text/plain": [
       "<Figure size 432x288 with 2 Axes>"
      ]
     },
     "metadata": {
      "needs_background": "light"
     },
     "output_type": "display_data"
    }
   ],
   "source": [
    "sns.heatmap(correlation, vmin=-1, vmax=1)"
   ]
  },
  {
   "cell_type": "code",
   "execution_count": 72,
   "metadata": {},
   "outputs": [
    {
     "data": {
      "text/plain": [
       "<matplotlib.axes._subplots.AxesSubplot at 0x1a1dc39150>"
      ]
     },
     "execution_count": 72,
     "metadata": {},
     "output_type": "execute_result"
    },
    {
     "data": {
      "image/png": "[encoded data removed]",
      "text/plain": [
       "<Figure size 432x288 with 1 Axes>"
      ]
     },
     "metadata": {
      "needs_background": "light"
     },
     "output_type": "display_data"
    }
   ],
   "source": [
    "indicators.plot(kind='scatter', x='GDP', y='UNEMPLOYMENT RATE')"
   ]
  },
  {
   "cell_type": "code",
   "execution_count": null,
   "metadata": {},
   "outputs": [],
   "source": []
  }
 ],
 "metadata": {
  "kernelspec": {
   "display_name": "Python 3",
   "language": "python",
   "name": "python3"
  },
  "language_info": {
   "codemirror_mode": {
    "name": "ipython",
    "version": 3
   },
   "file_extension": ".py",
   "mimetype": "text/x-python",
   "name": "python",
   "nbconvert_exporter": "python",
   "pygments_lexer": "ipython3",
   "version": "3.7.7"
  }
 },
 "nbformat": 4,
 "nbformat_minor": 4
}
